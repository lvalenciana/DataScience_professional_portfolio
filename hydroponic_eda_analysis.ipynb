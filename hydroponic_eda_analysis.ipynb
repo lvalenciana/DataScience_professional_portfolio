# Import necessary libraries
import pandas as pd
import plotly.express as px
import plotly.graph_objects as go

# 1. Introduction
"""
This project aims to analyze the benefits of hydroponic agriculture and its impact in 2024. 
Hydroponics is a method of growing plants without soil, using mineral nutrient solutions in an aqueous solvent. 
This analysis will explore various aspects of hydroponic farming, including yield distribution, correlations between variables, 
time series trends, and the benefits associated with hydroponic systems.
"""

# 2. Data Loading
# Load the dataset
# Replace 'path_to_your_hydroponic_data.csv' with the actual path to your dataset
data = pd.read_csv('path_to_your_hydroponic_data.csv')

# Display the first few rows of the dataset
print(data.head())

# Display the shape of the dataset
print(f"Dataset Shape: {data.shape}")

# 3. Data Cleaning
# Check for missing values
missing_values = data.isnull().sum()
print("Missing Values:\n", missing_values)

# Basic statistics of the dataset
print("Basic Statistics:\n", data.describe())

# Data Cleaning (if necessary)
# Example: Filling missing values or dropping them
data.fillna(method='ffill', inplace=True)  # Forward fill example

# Check again for missing values after cleaning
print("Missing Values After Cleaning:\n", data.isnull().sum())

# 4. Exploratory Data Analysis (EDA)

# 4.1 Distribution of Key Variables
# Visualizing the distribution of hydroponic yield
fig1 = px.histogram(data, x='yield', nbins=30, title='Distribution of Hydroponic Yield',
                     labels={'yield': 'Yield'},
                     color_discrete_sequence=['#636EFA'])
fig1.show()

# 4.2 Correlation Analysis
# Correlation heatmap to visualize relationships between features
correlation_matrix = data.corr()
fig2 = px.imshow(correlation_matrix, title='Correlation Heatmap', 
                 labels=dict(x="Features", y="Features", color="Correlation"),
                 color_continuous_scale='RdBu', zmin=-1, zmax=1)
fig2.show()

# 4.3 Time Series Analysis
# Assuming there is a 'date' column and 'yield' column
data['date'] = pd.to_datetime(data['date'])
data.set_index('date', inplace=True)

# Visualizing hydroponic yield over time
fig3 = go.Figure()
fig3.add_trace(go.Scatter(x=data.index, y=data['yield'], mode='lines+markers', name='Yield'))
fig3.update_layout(title='Hydroponic Yield Over Time',
                   xaxis_title='Date',
                   yaxis_title='Yield',
                   template='plotly_white')
fig3.show()

# 4.4 Benefits Analysis
# Assuming you have a column 'benefit' that categorizes benefits
benefit_counts = data['benefit'].value_counts().reset_index()
benefit_counts.columns = ['Benefit', 'Count']

# Bar chart to visualize the benefits of hydroponic agriculture
fig4 = px.bar(benefit_counts, x='Benefit', y='Count', title='Benefits of Hydroponic Agriculture',
              labels={'Count': 'Number of Instances'},
              color='Count', color_continuous_scale=px.colors.sequential.Viridis)
fig4.show()

# 4.5 Interactive Scatter Plot
# Example scatter plot to show relationship between two variables
fig5 = px.scatter(data, x='variable1', y='variable2', 
                  color='benefit', 
                  title='Relationship between Variable1 and Variable2',
                  labels={'variable1': 'Variable 1', 'variable2': 'Variable 2'})
fig5.show()

# 4.6 Additional Analysis: Yield by Crop Type
# Assuming there is a 'crop_type' column
crop_yield = data.groupby('crop_type')['yield'].mean().reset_index()

fig6 = px.bar(crop_yield, x='crop_type', y='yield', title='Average Yield by Crop Type',
              labels={'yield': 'Average Yield'},
              color='yield', color_continuous_scale=px.colors.sequential.Plasma)
fig6.show()

# 4.7 Seasonal Analysis
# Assuming there is a 'month' column derived from the date
data['month'] = data.index.month
monthly_yield = data.groupby('month')['yield'].mean().reset_index()

fig7 = px.line(monthly_yield, x='month', y='yield', title='Average Monthly Yield',
                labels={'yield': 'Average Yield', 'month': 'Month'},
                markers=True)
fig7.show()

# 5. Conclusion
"""
In conclusion, this exploratory data analysis of hydroponic agriculture has provided insights into the distribution of yields, 
the relationships between various factors, and the benefits associated with hydroponic systems. 
The analysis indicates that hydroponic farming can lead to higher yields compared to traditional methods, 
and understanding the seasonal trends can help optimize production. 
Future work could involve more detailed analysis of specific crop types and their performance under different conditions.
"""

### Additional Notes
- Ensure that the dataset used contains the necessary columns such as 'yield', 'date', 'benefit', 'variable1', 'variable2', and 'crop_type'.
- The visualizations created using Plotly provide interactive capabilities, allowing for deeper exploration of the data.
- Consider expanding the analysis by incorporating machine learning models to predict yields based on various input features.
